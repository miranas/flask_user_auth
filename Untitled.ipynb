{
 "cells": [
  {
   "cell_type": "code",
   "execution_count": 1,
   "id": "c0bcd0f5-faf8-442a-a4f2-5dd1ed8292e3",
   "metadata": {},
   "outputs": [
    {
     "name": "stdout",
     "output_type": "stream",
     "text": [
      "olemajole\n"
     ]
    }
   ],
   "source": [
    "print(\"olemajole\")"
   ]
  },
  {
   "cell_type": "code",
   "execution_count": null,
   "id": "3c5bc24b-282f-4653-9142-2e7aafa76476",
   "metadata": {},
   "outputs": [],
   "source": []
  },
  {
   "cell_type": "code",
   "execution_count": null,
   "id": "ae7e6b9c-fd9f-405f-8661-7c6cef8d63ec",
   "metadata": {},
   "outputs": [],
   "source": []
  }
 ],
 "metadata": {
  "kernelspec": {
   "display_name": "Python 3 (ipykernel)",
   "language": "python",
   "name": "python3"
  },
  "language_info": {
   "codemirror_mode": {
    "name": "ipython",
    "version": 3
   },
   "file_extension": ".py",
   "mimetype": "text/x-python",
   "name": "python",
   "nbconvert_exporter": "python",
   "pygments_lexer": "ipython3",
   "version": "3.12.3"
  }
 },
 "nbformat": 4,
 "nbformat_minor": 5
}
